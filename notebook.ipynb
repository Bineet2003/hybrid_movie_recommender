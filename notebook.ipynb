{
 "cells": [
  {
   "cell_type": "code",
   "execution_count": 1,
   "id": "73aae799-3425-43a1-8158-f6f352f044dc",
   "metadata": {},
   "outputs": [],
   "source": [
    "# Load datasets\n",
    "ratings = pd.read_csv('ratings.csv')\n",
    "movies = pd.read_csv('movies.csv')\n",
    "\n",
    "# Merge ratings with movies\n",
    "merged_data = pd.merge(ratings, movies, on='movieId')\n",
    "\n",
    "# Create a user-item matrix\n",
    "user_movie_ratings = merged_data.pivot(index='userId', columns='movieId', values='rating').fillna(0)\n",
    "\n",
    "# Split the data into train and test sets\n",
    "train_data, test_data = train_test_split(merged_data, test_size=0.2, random_state=42)"
   ]
  },
  {
   "cell_type": "code",
   "execution_count": 2,
   "id": "362cb16a-b58d-4db5-8d90-770295728e2c",
   "metadata": {},
   "outputs": [],
   "source": [
    "from sklearn.feature_extraction.text import TfidfVectorizer\n",
    "from sklearn.metrics.pairwise import cosine_similarity\n",
    "\n",
    "# Create a TF-IDF Vectorizer for movie genres\n",
    "tfidf = TfidfVectorizer()\n",
    "tfidf_matrix = tfidf.fit_transform(movies['genres'])\n",
    "\n",
    "# Function to get content-based recommendations\n",
    "def get_content_based_recommendations(movie_id, num_recommendations=5):\n",
    "    cosine_sim = cosine_similarity(tfidf_matrix[movies.index[movies['movieId'] == movie_id]], tfidf_matrix)\n",
    "    similar_indices = cosine_sim[0].argsort()[-num_recommendations-1:-1][::-1]\n",
    "    return movies['movieId'].iloc[similar_indices].tolist()"
   ]
  },
  {
   "cell_type": "code",
   "execution_count": 3,
   "id": "1265ca80-45be-48c6-bab5-946ba33dcced",
   "metadata": {},
   "outputs": [],
   "source": [
    "from sklearn.neighbors import NearestNeighbors\n",
    "from sklearn.ensemble import RandomForestRegressor\n",
    "from sklearn.svm import SVR\n",
    "from sklearn.pipeline import make_pipeline\n",
    "from sklearn.preprocessing import StandardScaler\n",
    "from sklearn.metrics import mean_squared_error\n",
    "\n",
    "# Function to create KNN model\n",
    "def create_knn_model():\n",
    "    return NearestNeighbors(metric='cosine')\n",
    "\n",
    "# Function to create Random Forest model\n",
    "def create_random_forest_model():\n",
    "    return RandomForestRegressor()\n",
    "\n",
    "# Function to create SVM model\n",
    "def create_svm_model():\n",
    "    return make_pipeline(StandardScaler(), SVR(kernel='linear'))"
   ]
  },
  {
   "cell_type": "code",
   "execution_count": 5,
   "id": "b2cd96ce-8e6c-4d6d-a5e0-31ab5ae3f3a6",
   "metadata": {},
   "outputs": [],
   "source": [
    "from sklearn.pipeline import Pipeline\n",
    "\n",
    "# Define the pipelines\n",
    "knn_pipeline = Pipeline([\n",
    "    ('knn', create_knn_model())\n",
    "])\n",
    "\n",
    "rf_pipeline = Pipeline([\n",
    "    ('rf', create_random_forest_model())\n",
    "])\n",
    "\n",
    "svm_pipeline = Pipeline([\n",
    "    ('svm', create_svm_model())\n",
    "])"
   ]
  },
  {
   "cell_type": "code",
   "execution_count": 7,
   "id": "4560e5be-30df-4379-a4f3-46d164b735b8",
   "metadata": {},
   "outputs": [],
   "source": [
    "from sklearn.model_selection import GridSearchCV\n",
    "\n",
    "from sklearn.model_selection import GridSearchCV\n",
    "\n",
    "# Parameter grid for KNN\n",
    "knn_param_grid = {\n",
    "    'knn__n_neighbors': [5, 10, 15, 20],\n",
    "    'knn__algorithm': ['auto', 'ball_tree', 'kd_tree', 'brute']\n",
    "}\n",
    "\n",
    "# Parameter grid for Random Forest\n",
    "rf_param_grid = {\n",
    "    'rf__n_estimators': [50, 100, 200],\n",
    "    'rf__max_depth': [None, 10, 20],\n",
    "}\n",
    "\n",
    "# Parameter grid for SVM\n",
    "svm_param_grid = {\n",
    "    'svm__kernel': ['linear', 'rbf'],\n",
    "    'svm__C': [0.1, 1, 10]\n",
    "}\n",
    "\n",
    "# Set up GridSearchCV for KNN\n",
    "knn_grid_search = GridSearchCV(knn_pipeline, knn_param_grid, cv=3, scoring='neg_mean_squared_error')\n",
    "knn_grid_search.fit(user_movie_ratings)\n",
    "\n",
    "# Set up GridSearchCV for Random Forest\n",
    "rf_grid_search = GridSearchCV(rf_pipeline, rf_param_grid, cv=3, scoring='neg_mean_squared_error')\n",
    "rf_grid_search.fit(train_data[['userId', 'movieId']], train_data['rating'])\n",
    "\n",
    "# Set up GridSearchCV for SVM\n",
    "svm_grid_search = GridSearchCV(svm_pipeline, svm_param_grid, cv=3, scoring='neg_mean_squared_error')\n",
    "svm_grid_search.fit(train_data[['userId', 'movieId']], train_data['rating'])\n",
    "\n",
    "# Get the best parameters for each model\n",
    "best_knn_params = knn_grid_search.best_params_\n",
    "best_rf_params = rf_grid_search.best_params_\n",
    "best_svm_params = svm_grid_search.best_params_"
   ]
  },
  {
   "cell_type": "code",
   "execution_count": 8,
   "id": "4d2281db-c878-475c-a476-5cbef0dfe3e6",
   "metadata": {},
   "outputs": [
    {
     "name": "stdout",
     "output_type": "stream",
     "text": [
      "RMSE for KNN model: 0.978\n",
      "RMSE for Random Forest model: 0.863\n",
      "RMSE for SVM model: 1.025\n"
     ]
    }
   ],
   "source": [
    "def evaluate_model(model, test_data):\n",
    "    # Predict ratings based on the trained model\n",
    "    predictions = model.predict(test_data[['userId', 'movieId']])\n",
    "    return mean_squared_error(test_data['rating'], predictions, squared=False)\n",
    "\n",
    "# Evaluate KNN\n",
    "knn_rmse = evaluate_model(knn_grid_search.best_estimator_, test_data)\n",
    "print(f\"RMSE for KNN model: {knn_rmse:.3f}\")\n",
    "\n",
    "# Evaluate Random Forest\n",
    "rf_rmse = evaluate_model(rf_grid_search.best_estimator_, test_data)\n",
    "print(f\"RMSE for Random Forest model: {rf_rmse:.3f}\")\n",
    "\n",
    "# Evaluate SVM\n",
    "svm_rmse = evaluate_model(svm_grid_search.best_estimator_, test_data)\n",
    "print(f\"RMSE for SVM model: {svm_rmse:.3f}\")"
   ]
  },
  {
   "cell_type": "code",
   "execution_count": 9,
   "id": "a0f74787-7a1c-49e2-a726-fbd9152348f6",
   "metadata": {},
   "outputs": [],
   "source": [
    "import joblib\n",
    "\n",
    "# Save the best models\n",
    "joblib.dump(knn_grid_search.best_estimator_, 'knn_model.pkl')\n",
    "joblib.dump(rf_grid_search.best_estimator_, 'rf_model.pkl')\n",
    "joblib.dump(svm_grid_search.best_estimator_, 'svm_model.pkl')\n",
    "\n",
    "from IPython.display import FileLink\n",
    "\n",
    "# Create download links for the models\n",
    "FileLink('knn_model.pkl')  # For KNN model\n",
    "FileLink('rf_model.pkl')    # For Random Forest model\n",
    "FileLink('svm_model.pkl')   # For SVM model\n"
   ]
  }
 ],
 "metadata": {
  "kernelspec": {
   "display_name": "Python 3 (ipykernel)",
   "language": "python",
   "name": "python3"
  },
  "language_info": {
   "codemirror_mode": {
    "name": "ipython",
    "version": 3
   },
   "file_extension": ".py",
   "mimetype": "text/x-python",
   "name": "python",
   "nbconvert_exporter": "python",
   "pygments_lexer": "ipython3",
   "version": "3.12.6"
  }
 },
 "nbformat": 4,
 "nbformat_minor": 5
}
